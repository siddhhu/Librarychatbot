import nltk
from nltk.stem import WordNetLemmatizer
lemmatizer = WordNetLemmatizer()
import pickle
import numpy as np
from keras.models import load_model
model = load_model('model_prepared.h5')
import json
import random
intents = json.loads(open('list.json').read())
words = pickle.load(open('words.pkl','rb'))
classes = pickle.load(open('classes.pkl','rb'))
def clean_up_sentence(sentence):
    sentence_words = nltk.word_tokenize(sentence)
    sentence_words = [lemmatizer.lemmatize(word.lower()) for word in sentence_words]
    return sentence_words

def bow(sentence, words, show_details=True):
    sentence_words = clean_up_sentence(sentence)
    bag = [0]*len(words)  
    for s in sentence_words:
        for m,n in enumerate(words):
            if n == s: 
                bag[m] = 1
                if show_details:
                    print ("present in bag: %s" % n)
    return(np.array(bag))

def predict_class(sentence, model):
    p = bow(sentence, words,show_details=False)
    res = model.predict(np.array([p]))[0]
    ERROR_THRESHOLD = 0.25
    results = [[p,q] for p,q in enumerate(res) if q>ERROR_THRESHOLD]
    results.sort(key=lambda x: x[1], reverse=True)
    list1 = []
    for r in results:
        
        list1.append({"intent": classes[r[0]], "Chances": str(r[1])})
    return list1

def getResponse(ints, intents_json):
    tag = ints[0]['intent']
    list_of_intents = intents_json['intents']
    for i in list_of_intents:
        if(i['tag']== tag):
            result = random.choice(i['responses'])
            break
    return result

def chatbot_response(msg):
    ints = predict_class(msg, model)
    res = getResponse(ints, intents)
    return res


#Creating GUI with tkinter
from tkinter import *


def send():
    msg = EntryBox.get("1.0",'end-1c').strip()
    EntryBox.delete("0.0",END)

    if msg != '':
        window.config(state=NORMAL)
        window.insert(END, "User: " + msg + '\n\n')
        window.config(foreground="gray1", font=("times new roman", 15 ))
    
        res = chatbot_response(msg)
        window.insert(END, "Jarvis: " + res + '\n\n')
            
        window.config(state=DISABLED)
        window.yview(END)

jarvis = Tk()
jarvis.title("IntelligentBot")
jarvis.geometry("700x500")
jarvis.maxsize(700,500)

window = Text(jarvis, bd=0, bg="lavender", height="8", width="550", font="Arial",)
window.config(state=DISABLED)


SendButton = Button(jarvis, font=("Courier",13,'bold'), text="Send", width="10", height=5,
                    bd=0, bg="YELLOW", activebackground="#3c9d9b",fg='BLACK',
                    command= send )
EntryBox = Text(jarvis, bd=0, bg="azure",width="29", height="5", font="Arial")
window.place(x=6,y=6, height=386, width=770)
EntryBox.place(x=128, y=401, height=90, width=670)
SendButton.place(x=6, y=401, height=90)

jarvis.mainloop()
