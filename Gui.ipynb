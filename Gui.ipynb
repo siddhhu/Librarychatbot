import nltk
from nltk.stem import WordNetLemmatizer
lemmatizer = WordNetLemmatizer()
import pickle
import numpy as np
from keras.models import load_model
model = load_model('model_prepared.h5')
import json
import random
intents = json.loads(open('list.json').read())
words = pickle.load(open('words.pkl','rb'))
classes = pickle.load(open('classes.pkl','rb'))
def Cleansent(sent):
    sent_words = nltk.word_tokenize(sent)
    sent_words = [lemmatizer.lemmatize(word.lower()) for word in sent_words]
    return sent_words

def bow(sent, words, show_details=True):
    sent_words = Cleansent(sent)
    bag = [0]*len(words)  
    for s in sent_words:
        for i,w in enumerate(words):
            if w == s: 
                bag[i] = 1
                if show_details:
                    print ("found in bag: %s" % w)
    return(np.array(bag))

def predict_class(sent, model):
    p = bow(sent, words,show_details=False)
    res = model.predict(np.array([p]))[0]
    ERROR_THRESHOLD = 0.25
    results = [[i,r] for i,r in enumerate(res) if r>ERROR_THRESHOLD]
    results.sort(key=lambda x: x[1], reverse=True)
    return_list = []
    for r in results:
        return_list.append({"intent": classes[r[0]], "probability": str(r[1])})
    return return_list

def getResponse(ints, intents_json):
    tag = ints[0]['intent']
    list_of_intents = intents_json['intents']
    for i in list_of_intents:
        if(i['tag']== tag):
            result = random.choice(i['responses'])
            break
    return result

def chatbot_response(msg):
    ints = predict_class(msg, model)
    res = getResponse(ints, intents)
    return res


#Creating GUI with tkinter
import tkinter
from tkinter import *
def Sendbutton():
    msg = Entrybox.get("1.0",'end-1c').strip()
    Entrybox.delete("0.0",END)
    
    if msg != '':
        Screen.config(state=NORMAL)
        Screen.insert(END, "You: " + msg + '\n\n')
        Screen.config(foreground="#442265", font=("Verdana", 12 ))
    
        result = chatbot_response(msg)
        Screen.insert(END, "Jarvis: " + result + '\n\n')
            
        Screen.config(state=DISABLED)
        Screen.yview(END)
jarvis = Tk()
jarvis.title("IntelligentBot")
jarvis.geometry("400x500")
jarvis.resizable(width=FALSE, height=FALSE)
Screen = Text(jarvis, bd=0, bg="white", height="8", width="50", font="Arial",)
Screen.config(state=DISABLED)
ScrollBar = Scrollbar(jarvis, command=Screen.yview, cursor="heart")
Screen['yscrollcommand'] = ScrollBar.set
Sendbutton = Button(jarvis, font=("Verdana",12,'bold'), text="Send", width="12", height=5,
                    bd=0, bg="#32de97", activebackground="#3c9d9b",fg='#ffffff',
                    command= Sendbutton )
Entrybox = Text(jarvis, bd=0, bg="white",width="29", height="5", font="Arial")
ScrollBar.place(x=376,y=6, height=386)
Screen.place(x=6,y=6, height=386, width=370)
Entrybox.place(x=128, y=401, height=90, width=265)
Sendbutton.place(x=6, y=401, height=90)
jarvis.mainloop()
